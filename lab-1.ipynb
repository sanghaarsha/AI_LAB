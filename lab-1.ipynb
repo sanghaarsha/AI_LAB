{
 "cells": [
  {
   "cell_type": "code",
   "execution_count": 1,
   "metadata": {},
   "outputs": [
    {
     "name": "stdout",
     "output_type": "stream",
     "text": [
      "odd\n"
     ]
    }
   ],
   "source": [
    "# even or odd\n",
    "num = int(input('enter a number: '))\n",
    "\n",
    "if num%2==0:\n",
    "    print('even')\n",
    "else:\n",
    "    print('odd')"
   ]
  },
  {
   "cell_type": "code",
   "execution_count": 26,
   "metadata": {},
   "outputs": [
    {
     "name": "stdout",
     "output_type": "stream",
     "text": [
      "(True, 1)\n",
      "(True, 2)\n",
      "(True, 5)\n",
      "(False, 0)\n",
      "(False, 0)\n"
     ]
    }
   ],
   "source": [
    "# check if prime (My implementation)\n",
    "def checker(num):\n",
    "    count = 0\n",
    "    current=0;\n",
    "    for i in range (num):\n",
    "        current=num;\n",
    "        if num%(i+1)==0:\n",
    "            count = count+1\n",
    "    if count>2:\n",
    "        return False,0\n",
    "    else:\n",
    "        return True,current\n",
    "\n",
    "print(checker(1))\n",
    "print(checker(2))\n",
    "print(checker(5))\n",
    "print(checker(4))\n",
    "print(checker(9))\n",
    "\n"
   ]
  },
  {
   "cell_type": "code",
   "execution_count": 28,
   "metadata": {},
   "outputs": [
    {
     "data": {
      "text/plain": [
       "False"
      ]
     },
     "execution_count": 28,
     "metadata": {},
     "output_type": "execute_result"
    }
   ],
   "source": [
    "# check for prime (PK Sir Version)\n",
    "def check(n:int)-> bool:\n",
    "    if n==2:\n",
    "        return True\n",
    "    else:    \n",
    "        for i in range(2,num): #from 2 to num-1\n",
    "            if n%i==0:\n",
    "                return False\n",
    "        return True\n",
    "\n",
    "check(3)"
   ]
  },
  {
   "cell_type": "code",
   "execution_count": 39,
   "metadata": {},
   "outputs": [
    {
     "name": "stdout",
     "output_type": "stream",
     "text": [
      "479001600\n",
      "479001600\n",
      "479001600\n"
     ]
    }
   ],
   "source": [
    "def iFacto(n:int)->int:\n",
    "    f = 1\n",
    "    for i in range(1,n+1):\n",
    "        f = f*i\n",
    "    return f \n",
    "\n",
    "def rFacto(n:int)->int:\n",
    "    if n==0 or n==1:\n",
    "        return 1\n",
    "    else:\n",
    "        return n*rFacto(n-1)\n",
    "\n",
    "def tailFacto(n:int, accumulator:int)->int:\n",
    "    if n==0 or n==1:\n",
    "        return accumulator\n",
    "    else:\n",
    "        return tailFacto(n-1, accumulator*n)\n",
    "        \n",
    "print(iFacto(12))\n",
    "print(rFacto(12))\n",
    "print(tailFacto(n=12, accumulator=1))\n"
   ]
  }
 ],
 "metadata": {
  "kernelspec": {
   "display_name": "latest",
   "language": "python",
   "name": "python3"
  },
  "language_info": {
   "codemirror_mode": {
    "name": "ipython",
    "version": 3
   },
   "file_extension": ".py",
   "mimetype": "text/x-python",
   "name": "python",
   "nbconvert_exporter": "python",
   "pygments_lexer": "ipython3",
   "version": "3.11.3"
  },
  "orig_nbformat": 4
 },
 "nbformat": 4,
 "nbformat_minor": 2
}
