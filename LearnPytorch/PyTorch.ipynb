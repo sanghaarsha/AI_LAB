{
 "cells": [
  {
   "cell_type": "markdown",
   "metadata": {},
   "source": [
    "### Linear Model\n",
    "\n",
    "A linear model in PyTorch refers to a basic type of model that represents a linear relationship between input variables (features) and output predictions. Linear models are commonly used for regression tasks, where the goal is to predict a continuous numerical value based on input features.\n",
    "\n",
    "Mathematically, a linear model can be represented as:\n",
    "\n",
    "```\n",
    "ŷ = w_1 * x_1 + w_2 * x_2 + ... + w_n * x_n + b\n",
    "```\n",
    "\n",
    "Where\n",
    "- `ŷ` is the predicted output.\n",
    "- `x_1, x_2, ..., x_n` are the input features.\n",
    "- `w_1, w_2, ..., w_n` are the weights associated with each feature.\n",
    "- `b` is the bias term.\n",
    "\n",
    "In PyTorch, creating a linear model can be done using the `torch.nn.Linear` module. This module abstracts the linear transformation and bias addition and provides a convenient way to define and use linear models in your neural network architecture.\n"
   ]
  },
  {
   "cell_type": "code",
   "execution_count": 1,
   "metadata": {},
   "outputs": [
    {
     "name": "stdout",
     "output_type": "stream",
     "text": [
      "tensor([[3.7040],\n",
      "        [8.0276]], grad_fn=<AddmmBackward0>)\n"
     ]
    }
   ],
   "source": [
    "# Here's an example of how to create a linear model using PyTorch:\n",
    "import torch\n",
    "import torch.nn as nn\n",
    "\n",
    "# Define the input size and output size for the linear model\n",
    "input_size = 3\n",
    "output_size = 1\n",
    "\n",
    "# Create a linear model with the specified input and output sizes\n",
    "linear_model = nn.Linear(input_size, output_size)\n",
    "\n",
    "# Define some input data\n",
    "input_data = torch.tensor([[1.0, 2.0, 3.0], [4.0, 5.0, 6.0]])\n",
    "\n",
    "# Get the predictions from the linear model\n",
    "predictions = linear_model(input_data)\n",
    "\n",
    "print(predictions)\n"
   ]
  },
  {
   "cell_type": "markdown",
   "metadata": {},
   "source": [
    "In this example, `nn.Linear` creates a linear model with an input size of 3 and an output size of 1. The input data `input_data` is passed through the linear model to obtain predictions.\n",
    "\n",
    "Linear models are simple and serve as the building blocks for more complex neural network architectures. They are often used as the final layer in neural networks for regression tasks or as a baseline model for comparison. Keep in mind that linear models might not capture complex relationships in data as effectively as more complex models, but they provide a starting point for understanding how different features contribute to predictions."
   ]
  }
 ],
 "metadata": {
  "kernelspec": {
   "display_name": ".venv",
   "language": "python",
   "name": "python3"
  },
  "language_info": {
   "codemirror_mode": {
    "name": "ipython",
    "version": 3
   },
   "file_extension": ".py",
   "mimetype": "text/x-python",
   "name": "python",
   "nbconvert_exporter": "python",
   "pygments_lexer": "ipython3",
   "version": "3.11.4"
  },
  "orig_nbformat": 4
 },
 "nbformat": 4,
 "nbformat_minor": 2
}
