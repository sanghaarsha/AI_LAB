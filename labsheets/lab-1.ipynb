{
 "cells": [
  {
   "cell_type": "code",
   "execution_count": 15,
   "metadata": {},
   "outputs": [
    {
     "name": "stdout",
     "output_type": "stream",
     "text": [
      "even\n"
     ]
    }
   ],
   "source": [
    "# 1)WAP to check if an input number is odd or even\n",
    "\n",
    "def checkEvenOdd(num:int)->str:\n",
    "    if num%2==0:\n",
    "        return 'even'\n",
    "    return 'odd'\n",
    "\n",
    "output = checkEvenOdd(8)\n",
    "print(output)\n"
   ]
  },
  {
   "cell_type": "code",
   "execution_count": 16,
   "metadata": {},
   "outputs": [
    {
     "name": "stdout",
     "output_type": "stream",
     "text": [
      "Distinction\n"
     ]
    }
   ],
   "source": [
    "# 2)WAP to input the percentage and display the division\n",
    "# >=80 → Distinction\n",
    "# >=65 → First Division\n",
    "# >=55 → Second Division\n",
    "# >=40 → Third Division\n",
    "# <40 → Fail\n",
    "def checkDivision(num:int)->str:\n",
    "    if num>=80:\n",
    "        return 'Distinction'\n",
    "    if num>=65:\n",
    "        return 'First Division'\n",
    "    if num>=55:\n",
    "        return 'Second Division'\n",
    "    if num>=40:\n",
    "        return 'Third Division'\n",
    "    return 'Fail'\n",
    "\n",
    "output = checkDivision(88)\n",
    "print(output)\n",
    "\n"
   ]
  },
  {
   "cell_type": "code",
   "execution_count": 17,
   "metadata": {},
   "outputs": [
    {
     "name": "stdout",
     "output_type": "stream",
     "text": [
      "Added: 13, Subtracted: 3, Multiplied: 40, Divided: 1.6\n"
     ]
    }
   ],
   "source": [
    "# 3)WAP to calculate sum, diff, product and quotient between two input numbers using a single function.\n",
    "def calculate(a:int,b:int)->list:\n",
    "    divOut = a/b if b!=0 else 'not divisible by zero'\n",
    "    return a+b,a-b,a*b,divOut\n",
    "\n",
    "\n",
    "sum,diff,prod,quot = calculate(8,5)\n",
    "print(f\"Added: {sum}, Subtracted: {diff}, Multiplied: {prod}, Divided: {quot}\")\n"
   ]
  },
  {
   "cell_type": "code",
   "execution_count": 19,
   "metadata": {},
   "outputs": [
    {
     "name": "stdout",
     "output_type": "stream",
     "text": [
      "[11, 13, 17, 19]\n"
     ]
    }
   ],
   "source": [
    "def primeFinder(start, stop):\n",
    "    primeList = []\n",
    "\n",
    "    for num in range(start, stop+1):\n",
    "        count = 0\n",
    "\n",
    "        if num == 1:\n",
    "            continue\n",
    "\n",
    "        for i in range(1, num+1):\n",
    "            if num % i == 0:\n",
    "                count = count+1\n",
    "\n",
    "        if count <= 2:\n",
    "            primeList.append(num)\n",
    "\n",
    "    return primeList\n",
    "\n",
    "output = primeFinder(10, 20)\n",
    "print(output)\n"
   ]
  },
  {
   "cell_type": "code",
   "execution_count": 26,
   "metadata": {},
   "outputs": [
    {
     "name": "stdout",
     "output_type": "stream",
     "text": [
      "[{'name': 'John', 'maths': 55, 'science': 66, 'nepali': 77}, {'name': 'Doe', 'maths': 88, 'science': 77, 'nepali': 99}]\n"
     ]
    }
   ],
   "source": [
    "# 5)WAP to enter the marks of 10 students and display it.\n",
    "students = []\n",
    "for i in range(10):\n",
    "    name = input('enter students name: ')\n",
    "    maths = input('enter marks in Maths: ')\n",
    "    science = input('enter marks in Science: ')\n",
    "    nepali = input('enter marks in Nepali: ')\n",
    "    obj = {\n",
    "        \"name\":str(name),\n",
    "        \"maths\":int(maths),\n",
    "        \"science\":int(science),\n",
    "        \"nepali\":int(nepali)\n",
    "    }\n",
    "    students.append(obj)\n",
    "    \n",
    "print(students)"
   ]
  },
  {
   "cell_type": "code",
   "execution_count": 5,
   "metadata": {},
   "outputs": [
    {
     "data": {
      "text/plain": [
       "120"
      ]
     },
     "execution_count": 5,
     "metadata": {},
     "output_type": "execute_result"
    }
   ],
   "source": [
    "# 6)WAP to calculate the factorial of an input number.\n",
    "def calcFacto(num):\n",
    "    if num==0 or num==1:\n",
    "        return 1\n",
    "    fact = num * calcFacto(num-1)\n",
    "    \n",
    "    return fact\n",
    "\n",
    "calcFacto(5)"
   ]
  },
  {
   "cell_type": "code",
   "execution_count": 52,
   "metadata": {},
   "outputs": [
    {
     "data": {
      "text/plain": [
       "9"
      ]
     },
     "execution_count": 52,
     "metadata": {},
     "output_type": "execute_result"
    }
   ],
   "source": [
    "# 7)WAP to ask for a sentence and count the number of words.\n",
    "def checkLen(sent:str)->int:\n",
    "    sent  = sent.strip()\n",
    "    words = sent.split(' ')\n",
    "    \n",
    "    # if provided with spaces only\n",
    "    if words[0]=='':\n",
    "        return 0\n",
    "    \n",
    "    return len(words)\n",
    "    \n",
    "\n",
    "# checkLen(sent=\"    \")\n",
    "checkLen(sent=\" The quick brown fox jumps over the lazy dog \")\n",
    "\n"
   ]
  },
  {
   "cell_type": "code",
   "execution_count": 64,
   "metadata": {},
   "outputs": [
    {
     "data": {
      "text/plain": [
       "[4, 5, 11, 13, 51]"
      ]
     },
     "execution_count": 64,
     "metadata": {},
     "output_type": "execute_result"
    }
   ],
   "source": [
    "# 8)WAP to sort the list [5, 4, 11, 13, 51]\n",
    "def sortList(inpList:list)->list:\n",
    "    inpList.sort()\n",
    "    return inpList\n",
    "\n",
    "sortList([5, 4, 11, 13, 51])\n"
   ]
  },
  {
   "cell_type": "code",
   "execution_count": 1,
   "metadata": {},
   "outputs": [
    {
     "data": {
      "text/plain": [
       "[4, 5, 11, 13, 51]"
      ]
     },
     "execution_count": 1,
     "metadata": {},
     "output_type": "execute_result"
    }
   ],
   "source": [
    "# 8)WAP to sort the list [5, 4, 11, 13, 51]\n",
    "def sortListSelf(inpList:list)->list:\n",
    "    for i in range(len(inpList)):\n",
    "        for j in range(i):\n",
    "            chA = inpList[i]\n",
    "            chB = inpList[j]\n",
    "            if chA<chB:\n",
    "                inpList[i] = chB\n",
    "                inpList[j] = chA\n",
    "    return inpList\n",
    "\n",
    "sortListSelf([5, 4, 11, 13, 51])\n"
   ]
  },
  {
   "cell_type": "code",
   "execution_count": 5,
   "metadata": {},
   "outputs": [
    {
     "data": {
      "text/plain": [
       "10"
      ]
     },
     "execution_count": 5,
     "metadata": {},
     "output_type": "execute_result"
    }
   ],
   "source": [
    "# 9)WAP to sum all the items in a list.\n",
    "def addItems(inpList:list)->float:\n",
    "    sum = 0\n",
    "    for item in inpList:\n",
    "        sum += item\n",
    "    return sum\n",
    "\n",
    "addItems([1,2,3,4])\n",
    "\n"
   ]
  },
  {
   "cell_type": "code",
   "execution_count": 12,
   "metadata": {},
   "outputs": [
    {
     "data": {
      "text/plain": [
       "51"
      ]
     },
     "execution_count": 12,
     "metadata": {},
     "output_type": "execute_result"
    }
   ],
   "source": [
    "# 10)WAP program to get the largest number from a list.\n",
    "def getLargest(inpList:list)->float:\n",
    "    large = 0\n",
    "    for i in range(len(inpList)-1):\n",
    "        large  = inpList[i+1] if inpList[i+1]>inpList[i] and inpList[i+1]>large else large\n",
    "    return large\n",
    "\n",
    "getLargest([5, 4, 51, 11, 13])\n"
   ]
  },
  {
   "cell_type": "code",
   "execution_count": 27,
   "metadata": {},
   "outputs": [
    {
     "data": {
      "text/plain": [
       "{'t': 2,\n",
       " 'h': 2,\n",
       " 'e': 3,\n",
       " ' ': 8,\n",
       " 'q': 1,\n",
       " 'u': 2,\n",
       " 'i': 1,\n",
       " 'c': 1,\n",
       " 'k': 1,\n",
       " 'b': 1,\n",
       " 'r': 2,\n",
       " 'o': 4,\n",
       " 'w': 1,\n",
       " 'n': 1,\n",
       " 'f': 1,\n",
       " 'x': 1,\n",
       " 'j': 1,\n",
       " 'm': 1,\n",
       " 'p': 1,\n",
       " 's': 1,\n",
       " 'v': 1,\n",
       " 'l': 1,\n",
       " 'a': 1,\n",
       " 'z': 1,\n",
       " 'y': 1,\n",
       " 'd': 1,\n",
       " 'g': 1}"
      ]
     },
     "execution_count": 27,
     "metadata": {},
     "output_type": "execute_result"
    }
   ],
   "source": [
    "# 11)WAP to ask for a sentence and calculate the frequency of characters in the sentences.\n",
    "def findFreq(inpStr:str)->dict:\n",
    "    inpStr = inpStr.lower()\n",
    "    out = {}\n",
    "    for i in range(len(inpStr)):\n",
    "        chr = inpStr[i]\n",
    "        if chr not in out:\n",
    "            out[chr]=1\n",
    "        else:\n",
    "            out[chr]=out[chr]+1\n",
    "    return out\n",
    "\n",
    "\n",
    "\n",
    "findFreq(\"The quick brown fox jumps over the lazy dog\")\n"
   ]
  },
  {
   "cell_type": "code",
   "execution_count": 41,
   "metadata": {},
   "outputs": [
    {
     "name": "stdout",
     "output_type": "stream",
     "text": [
      "600\n",
      "88\n"
     ]
    }
   ],
   "source": [
    "# 12)WAP to find the sum of all items in a dictionary\n",
    "\n",
    "def findSumOf(inpDict:dict)->float:\n",
    "    sum=0\n",
    "    for value in inpDict.values():\n",
    "        sum += value\n",
    "    return sum\n",
    "\n",
    "out  = findSumOf({'a': 100, 'b':200, 'c':300})\n",
    "print(out)\n",
    "\n",
    "out = findSumOf({'x': 25, 'y':18, 'z':45})\n",
    "print(out)"
   ]
  },
  {
   "cell_type": "code",
   "execution_count": 51,
   "metadata": {},
   "outputs": [
    {
     "data": {
      "text/plain": [
       "'I Love Nepal'"
      ]
     },
     "execution_count": 51,
     "metadata": {},
     "output_type": "execute_result"
    }
   ],
   "source": [
    "# 13) You are given a string and your task is to swap cases. \n",
    "# In other words, convert all lowercase letters to uppercase letters and vice versa\n",
    "def swapCases(inpStr:str)->str:\n",
    "    swapped = \"\"\n",
    "    for i in range(len(inpStr)):\n",
    "        ch = inpStr[i]\n",
    "        if ch<='z' and ch>='a':\n",
    "            swapped += ch.capitalize()\n",
    "        else:\n",
    "            swapped += ch.lower()\n",
    "    return swapped\n",
    "\n",
    "swapCases(\"i lOVE nEPAL\")"
   ]
  },
  {
   "cell_type": "code",
   "execution_count": 4,
   "metadata": {},
   "outputs": [],
   "source": [
    "# 14) WAP to represent the following graphs using a dictionary.\n",
    "firstGraph = {\n",
    "    'A':['B','C'],\n",
    "    'B':['A','D','E'],\n",
    "    'C':['A','F'],\n",
    "    'D':['B','G'],\n",
    "    'E':['B','H'],\n",
    "    'F':['C'],\n",
    "    'G':['D'],\n",
    "    'H':['E'],\n",
    "}\n",
    "\n",
    "secondGraph = {\n",
    "'Biratnagar':[('Itahari',22),('Biratchowk',30),('Rangeli',25)],\n",
    "'Itahari':[('Biratnagar',22),('Biratchowk',11),('Dharan',20)],\n",
    "'Rangeli':[('Biratnagar',25),('Kanepokhari',25),('Urlabari',40)],\n",
    "'Biratchowk':[('Biratnagar',30),('Itahari',11),('Kanepokhari',10)],\n",
    "'Dharan':[('Itahari',20)],\n",
    "'Kanepokhari':[('Biratchowk',10),('Rangeli',25),('Urlabari',12)],\n",
    "'Urlabari':[('Kanepokhari',12),('Rangeli',40)],\n",
    "'Damak':[('Urlabari',6)]\n",
    "}\n"
   ]
  }
 ],
 "metadata": {
  "kernelspec": {
   "display_name": "latest",
   "language": "python",
   "name": "python3"
  },
  "language_info": {
   "codemirror_mode": {
    "name": "ipython",
    "version": 3
   },
   "file_extension": ".py",
   "mimetype": "text/x-python",
   "name": "python",
   "nbconvert_exporter": "python",
   "pygments_lexer": "ipython3",
   "version": "3.11.4"
  },
  "orig_nbformat": 4
 },
 "nbformat": 4,
 "nbformat_minor": 2
}
