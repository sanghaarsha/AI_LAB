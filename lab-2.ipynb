{
 "cells": [
  {
   "cell_type": "markdown",
   "metadata": {},
   "source": [
    "### nQueen using backtracking"
   ]
  },
  {
   "cell_type": "code",
   "execution_count": 9,
   "metadata": {},
   "outputs": [],
   "source": [
    "# generate a board \n",
    "# board = [[\" \",\" \"],[\" \",\" \"]]\n",
    "\n",
    "# generating board dynamically\n",
    "#n = int(input('Enter number of queens: '))\n",
    "#board = [[\" \"]*n for i in range(n)]"
   ]
  },
  {
   "cell_type": "code",
   "execution_count": 10,
   "metadata": {},
   "outputs": [],
   "source": [
    "def display(board):\n",
    "    for row in board:\n",
    "        print(row)"
   ]
  },
  {
   "cell_type": "code",
   "execution_count": 11,
   "metadata": {},
   "outputs": [],
   "source": [
    "# display(board)"
   ]
  },
  {
   "cell_type": "code",
   "execution_count": 12,
   "metadata": {},
   "outputs": [],
   "source": [
    "# now placing a queen\n",
    "# board[1][1]='Q'\n",
    "# display(board)"
   ]
  },
  {
   "cell_type": "code",
   "execution_count": 13,
   "metadata": {},
   "outputs": [],
   "source": [
    "def isSafe(board,x,y,n):\n",
    "    # column test \n",
    "    for row in range(x):\n",
    "        if board[row][y]=='Q':\n",
    "            return False\n",
    "    # upper left diagonal test\n",
    "    xx = x-1\n",
    "    yy = y-1\n",
    "    while(xx>=0 and yy>=0):\n",
    "        if (board[xx][yy]=='Q'):\n",
    "            return False\n",
    "        xx = xx-1\n",
    "        yy = yy-1\n",
    "    \n",
    "    # upper right diagonal test\n",
    "    xx = x-1\n",
    "    yy = y+1\n",
    "    while(xx>=0 and yy<n):\n",
    "        if (board[xx][yy]=='Q'):\n",
    "            return False\n",
    "        xx = xx-1\n",
    "        yy = yy+1\n",
    "    return True\n"
   ]
  },
  {
   "cell_type": "code",
   "execution_count": 14,
   "metadata": {},
   "outputs": [],
   "source": [
    "# isSafe(board,2,1)"
   ]
  },
  {
   "cell_type": "code",
   "execution_count": 15,
   "metadata": {},
   "outputs": [],
   "source": [
    "# now placing queens\n",
    "def nQueensSolver(board, x, n):\n",
    "    # if we successfully placed all queens return true\n",
    "    if(x>=n):\n",
    "        return True\n",
    "    # iterate through the columns for each row\n",
    "    for col in range(n):\n",
    "        # if the particular position is safe then place the queen\n",
    "        if(isSafe(board,x,col,n)):\n",
    "            board[x][col]='Q'\n",
    "            # if the next queen can't be paced than backtrack\n",
    "            if (nQueensSolver(board,x+1,n)):\n",
    "                return True\n",
    "            board[x][col]=' '\n",
    "    return False\n",
    "             "
   ]
  },
  {
   "cell_type": "code",
   "execution_count": 16,
   "metadata": {},
   "outputs": [
    {
     "name": "stdout",
     "output_type": "stream",
     "text": [
      "[' ', 'Q', ' ', ' ']\n",
      "[' ', ' ', ' ', 'Q']\n",
      "['Q', ' ', ' ', ' ']\n",
      "[' ', ' ', 'Q', ' ']\n"
     ]
    }
   ],
   "source": [
    "n = int(input('Enter the number of queens: '))\n",
    "# generating board dynamically\n",
    "board = [[\" \"]*n for i in range(n)]\n",
    "\n",
    "if nQueensSolver(board,0,n):\n",
    "    display(board)\n",
    "else:\n",
    "    print('NO SOLUTION FOUND')"
   ]
  }
 ],
 "metadata": {
  "kernelspec": {
   "display_name": "latest",
   "language": "python",
   "name": "python3"
  },
  "language_info": {
   "codemirror_mode": {
    "name": "ipython",
    "version": 3
   },
   "file_extension": ".py",
   "mimetype": "text/x-python",
   "name": "python",
   "nbconvert_exporter": "python",
   "pygments_lexer": "ipython3",
   "version": "3.11.4"
  },
  "orig_nbformat": 4
 },
 "nbformat": 4,
 "nbformat_minor": 2
}
